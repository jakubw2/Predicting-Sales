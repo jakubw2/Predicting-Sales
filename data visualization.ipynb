{
 "cells": [
  {
   "cell_type": "code",
   "execution_count": null,
   "metadata": {},
   "outputs": [],
   "source": [
    "# Load Data set here\n",
    "data_df = pd.read_csv('../resource/lib/public/project_data.csv')\n",
    "\n",
    "test_df = pd.read_csv('../resource/lib/public/project_leaderboard_data.csv')"
   ]
  },
  {
   "cell_type": "code",
   "execution_count": null,
   "metadata": {},
   "outputs": [],
   "source": [
    "data_df.drop(columns=['PANID'], inplace=True)\n",
    "data_df.columns = [c.replace(' ', '_') for c in data_df.columns]\n",
    "test_df.drop(columns=['PANID'], inplace=True)"
   ]
  },
  {
   "cell_type": "code",
   "execution_count": null,
   "metadata": {},
   "outputs": [],
   "source": [
    "# Data Visualization begins here\n",
    "#numerical \n",
    "\n",
    "x=np.log(data_df['beer_spending']+1)\n",
    "y=np.log(data_df['saltsnck_spending']+1)\n",
    "\n",
    "plt.scatter(x,y)\n",
    "plt.xlabel(\"Annual spending on beer\")\n",
    "plt.ylabel(\"Salty Snack Spending\")\n",
    "\n",
    "plt.show()\n",
    "\n",
    "x=np.log(data_df['milk_spending']+1)\n",
    "y=np.log(data_df['saltsnck_spending']+1)\n",
    "\n",
    "plt.scatter(x,y)\n",
    "plt.xlabel(\"Annual spending on milk\")\n",
    "plt.ylabel(\"Salty Snack Spending\")\n",
    "\n",
    "plt.show()\n",
    "\n",
    "x=np.log(data_df['blades_spending']+1)\n",
    "y=np.log(data_df['saltsnck_spending']+1)\n",
    "\n",
    "plt.scatter(x,y)\n",
    "plt.xlabel(\"Annual spending on Blades\")\n",
    "plt.ylabel(\"Salty Snack Spending\")\n",
    "\n",
    "plt.show()"
   ]
  },
  {
   "cell_type": "code",
   "execution_count": 1,
   "metadata": {},
   "outputs": [
    {
     "ename": "NameError",
     "evalue": "name 'data_df' is not defined",
     "output_type": "error",
     "traceback": [
      "\u001b[1;31m---------------------------------------------------------------------------\u001b[0m",
      "\u001b[1;31mNameError\u001b[0m                                 Traceback (most recent call last)",
      "\u001b[1;32m<ipython-input-1-c7e4bfdbafd3>\u001b[0m in \u001b[0;36m<module>\u001b[1;34m\u001b[0m\n\u001b[1;32m----> 1\u001b[1;33m \u001b[0max\u001b[0m\u001b[1;33m=\u001b[0m\u001b[0mdata_df\u001b[0m\u001b[1;33m.\u001b[0m\u001b[0mboxplot\u001b[0m\u001b[1;33m(\u001b[0m\u001b[0mcolumn\u001b[0m \u001b[1;33m=\u001b[0m \u001b[1;34m'saltsnck_spending'\u001b[0m\u001b[1;33m,\u001b[0m \u001b[0mby\u001b[0m \u001b[1;33m=\u001b[0m \u001b[1;34m'Family_Size'\u001b[0m\u001b[1;33m)\u001b[0m\u001b[1;33m\u001b[0m\u001b[1;33m\u001b[0m\u001b[0m\n\u001b[0m\u001b[0;32m      2\u001b[0m \u001b[0max\u001b[0m\u001b[1;33m.\u001b[0m\u001b[0mset_ylabel\u001b[0m\u001b[1;33m(\u001b[0m\u001b[1;34m\"Salty Snack Spending\"\u001b[0m\u001b[1;33m)\u001b[0m\u001b[1;33m\u001b[0m\u001b[1;33m\u001b[0m\u001b[0m\n\u001b[0;32m      3\u001b[0m \u001b[0max\u001b[0m\u001b[1;33m.\u001b[0m\u001b[0mset_yscale\u001b[0m\u001b[1;33m(\u001b[0m\u001b[1;34m'log'\u001b[0m\u001b[1;33m)\u001b[0m\u001b[1;33m\u001b[0m\u001b[1;33m\u001b[0m\u001b[0m\n\u001b[0;32m      4\u001b[0m \u001b[0mplt\u001b[0m\u001b[1;33m.\u001b[0m\u001b[0msuptitle\u001b[0m\u001b[1;33m(\u001b[0m\u001b[1;34m\" \"\u001b[0m\u001b[1;33m)\u001b[0m\u001b[1;33m\u001b[0m\u001b[1;33m\u001b[0m\u001b[0m\n\u001b[0;32m      5\u001b[0m \u001b[0mplt\u001b[0m\u001b[1;33m.\u001b[0m\u001b[0mtitle\u001b[0m\u001b[1;33m(\u001b[0m\u001b[1;34m\" \"\u001b[0m\u001b[1;33m)\u001b[0m\u001b[1;33m\u001b[0m\u001b[1;33m\u001b[0m\u001b[0m\n",
      "\u001b[1;31mNameError\u001b[0m: name 'data_df' is not defined"
     ]
    }
   ],
   "source": [
    "ax=data_df.boxplot(column = 'saltsnck_spending', by = 'Family_Size')\n",
    "ax.set_ylabel(\"Salty Snack Spending\")\n",
    "ax.set_yscale('log')\n",
    "plt.suptitle(\" \")\n",
    "plt.title(\" \")\n",
    "plt.show()\n",
    "\n",
    "ax=data_df.boxplot(column = 'saltsnck_spending', by = 'Combined_Pre-Tax_Income_of_HH')\n",
    "ax.set_ylabel(\"Salty Snack Spending\")\n",
    "ax.set_yscale('log')\n",
    "plt.suptitle(\" \")\n",
    "plt.title(\" \")\n",
    "plt.show()\n",
    "\n",
    "ax=data_df.boxplot(column = 'saltsnck_spending', by = 'ALL_TVS')\n",
    "ax.set_ylabel(\"Salty Snack Spending\")\n",
    "ax.set_yscale('log')\n",
    "plt.suptitle(\" \")\n",
    "plt.title(\" \")\n",
    "plt.show()\n",
    "\n",
    "ax=data_df.boxplot(column = 'saltsnck_spending', by = 'Age_Group_Applied_to_Household_Head')\n",
    "ax.set_ylabel(\"Salty Snack Spending\")\n",
    "ax.set_yscale('log')\n",
    "plt.suptitle(\" \")\n",
    "plt.title(\" \")\n",
    "plt.show()\n",
    "\n",
    "ax=data_df.boxplot(column = 'saltsnck_spending', by = 'Age_Group_Applied_to_Male_HH')\n",
    "ax.set_ylabel(\"Salty Snack Spending\")\n",
    "ax.set_yscale('log')\n",
    "plt.suptitle(\" \")\n",
    "plt.title(\" \")\n",
    "plt.show()"
   ]
  },
  {
   "cell_type": "markdown",
   "metadata": {},
   "source": [
    "### One thing apparent from the scatter plots is that the data is not normally distrbuted. It is necessary to log the data to see any type of correlation. Generally, salty snacks exhibits a positive correlation with most other numerical data."
   ]
  },
  {
   "cell_type": "code",
   "execution_count": null,
   "metadata": {},
   "outputs": [],
   "source": [
    "# Visualize pairwise correlations and comment here\n",
    "from pandas.plotting import scatter_matrix\n",
    "_ = scatter_matrix(data_df[['saltsnck_spending', 'Combined_Pre-Tax_Income_of_HH', 'beer_spending', 'milk_spending','Marital_Status']], figsize=(6, 6), diagonal='kde')\n"
   ]
  },
  {
   "cell_type": "code",
   "execution_count": null,
   "metadata": {},
   "outputs": [],
   "source": [
    "corr= data_df.corr()\n",
    "sns.heatmap(corr, xticklabels=corr.columns, yticklabels=corr.columns)\n",
    "plt.show"
   ]
  },
  {
   "cell_type": "markdown",
   "metadata": {},
   "source": [
    "### For the variables that also are not at all correlated or affect the response variable significantly are removed via a variable threshold."
   ]
  },
  {
   "cell_type": "code",
   "execution_count": 2,
   "metadata": {},
   "outputs": [
    {
     "ename": "NameError",
     "evalue": "name 'msno' is not defined",
     "output_type": "error",
     "traceback": [
      "\u001b[1;31m---------------------------------------------------------------------------\u001b[0m",
      "\u001b[1;31mNameError\u001b[0m                                 Traceback (most recent call last)",
      "\u001b[1;32m<ipython-input-2-d215bc2ec395>\u001b[0m in \u001b[0;36m<module>\u001b[1;34m\u001b[0m\n\u001b[1;32m----> 1\u001b[1;33m \u001b[0mmsno\u001b[0m\u001b[1;33m.\u001b[0m\u001b[0mheatmap\u001b[0m\u001b[1;33m(\u001b[0m\u001b[0mdata_df\u001b[0m\u001b[1;33m)\u001b[0m\u001b[1;33m\u001b[0m\u001b[1;33m\u001b[0m\u001b[0m\n\u001b[0m",
      "\u001b[1;31mNameError\u001b[0m: name 'msno' is not defined"
     ]
    }
   ],
   "source": [
    "msno.heatmap(data_df)"
   ]
  },
  {
   "cell_type": "markdown",
   "metadata": {},
   "source": [
    "### Check for missing values"
   ]
  },
  {
   "cell_type": "code",
   "execution_count": null,
   "metadata": {},
   "outputs": [],
   "source": [
    "pd.DataFrame({'miss.val': data_df.isnull().sum(), })"
   ]
  }
 ],
 "metadata": {
  "kernelspec": {
   "display_name": "Python 3",
   "language": "python",
   "name": "python3"
  },
  "language_info": {
   "codemirror_mode": {
    "name": "ipython",
    "version": 3
   },
   "file_extension": ".py",
   "mimetype": "text/x-python",
   "name": "python",
   "nbconvert_exporter": "python",
   "pygments_lexer": "ipython3",
   "version": "3.7.6"
  }
 },
 "nbformat": 4,
 "nbformat_minor": 4
}
